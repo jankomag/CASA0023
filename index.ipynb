{
  "cells": [
    {
      "cell_type": "markdown",
      "metadata": {},
      "source": [
        "# Remotely Sensing Cities and Environments {.unnumbered}\n",
        "\n",
        "### Welcome to my CASA0023 Learning Diary\n",
        "\n",
        "Here, I share my journey through the module CASA0023 Remotely Sensing Cities and Environments - as part of the Urban Spatial Science MSc degree in CASA, UCL (2023-24). Follow along, as I learn new techniques, review relevant research, apply the techniques in practice and reflect on the topics covered in each week.\n",
        "\n",
        "### Background\n",
        "I'm Jan and I took this course, as I am curious to learn more about using spatial raster data from satellites and aerial images for geospatial analysis. My experience with remote sensing, prior to taking this course was limited to a few introductory lectures about satellites and SAR imagery in a Geophysics module of my undergraduate. That is why I had a particular interest in taking this course to learn how these massive amounts of data (really so much of it is captured everyday!), can be used to extract valuable insights to address global issues.\n",
        "\n",
        "\n",
        "```{figure, center, width=\"10%\"}\n",
        "![Me preparing for this course](res/gis_dummy.jpg)"
      ],
      "id": "6ec5e955"
    }
  ],
  "metadata": {
    "kernelspec": {
      "name": "urbanity",
      "language": "python",
      "display_name": "urbanity"
    }
  },
  "nbformat": 4,
  "nbformat_minor": 5
}